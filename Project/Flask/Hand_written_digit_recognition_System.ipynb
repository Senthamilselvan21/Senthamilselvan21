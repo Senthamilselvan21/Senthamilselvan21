{
 "cells": [
  {
   "cell_type": "markdown",
   "metadata": {
    "id": "F9MEGnJvirE6"
   },
   "source": [
    "##Understanding the Data"
   ]
  },
  {
   "cell_type": "code",
   "execution_count": null,
   "metadata": {
    "id": "TItYTlaaXszR"
   },
   "outputs": [],
   "source": [
    "#importing the required libraries\n",
    "import numpy as np\n",
    "import tensorflow\n",
    "from tensorflow.keras.datasets import mnist\n",
    "from tensorflow.keras.models import Sequential\n",
    "from tensorflow.keras.layers import Dense, Flatten\n",
    "from tensorflow.keras.layers import Conv2D\n",
    "from keras.optimizers import Adam\n",
    "from keras.utils import np_utils\n"
   ]
  },
  {
   "cell_type": "code",
   "execution_count": null,
   "metadata": {
    "id": "T_sgZFVKX23m"
   },
   "outputs": [],
   "source": [
    "#loading data\n",
    "(X_train,y_train) , (X_test,y_test)=mnist.load_data()\n"
   ]
  },
  {
   "cell_type": "code",
   "execution_count": null,
   "metadata": {
    "colab": {
     "base_uri": "https://localhost:8080/"
    },
    "id": "fygL_dCLbinm",
    "outputId": "96687d45-6598-4a24-ca0c-04ad764c04d7"
   },
   "outputs": [
    {
     "name": "stdout",
     "output_type": "stream",
     "text": [
      "(60000, 28, 28)\n",
      "(10000, 28, 28)\n"
     ]
    }
   ],
   "source": [
    "print(X_train.shape)\n",
    "print(X_test.shape)"
   ]
  },
  {
   "cell_type": "markdown",
   "metadata": {
    "id": "_exWRZlOcR_n"
   },
   "source": [
    "###Analyzing the data"
   ]
  },
  {
   "cell_type": "markdown",
   "metadata": {
    "id": "QGT4VhTkb77O"
   },
   "source": [
    "#Understanding the Data"
   ]
  },
  {
   "cell_type": "code",
   "execution_count": null,
   "metadata": {
    "colab": {
     "base_uri": "https://localhost:8080/"
    },
    "id": "0ex37eGqb0Wa",
    "outputId": "abf9d792-2560-4c39-b713-00a00d8bad75"
   },
   "outputs": [
    {
     "data": {
      "text/plain": [
       "array([[  0,   0,   0,   0,   0,   0,   0,   0,   0,   0,   0,   0,   0,\n",
       "          0,   0,   0,   0,   0,   0,   0,   0,   0,   0,   0,   0,   0,\n",
       "          0,   0],\n",
       "       [  0,   0,   0,   0,   0,   0,   0,   0,   0,   0,   0,   0,   0,\n",
       "          0,   0,   0,   0,   0,   0,   0,   0,   0,   0,   0,   0,   0,\n",
       "          0,   0],\n",
       "       [  0,   0,   0,   0,   0,   0,   0,   0,   0,   0,   0,   0,   0,\n",
       "          0,   0,   0,   0,   0,   0,   0,   0,   0,   0,   0,   0,   0,\n",
       "          0,   0],\n",
       "       [  0,   0,   0,   0,   0,   0,   0,   0,   0,   0,   0,   0,   0,\n",
       "          0,   0,   0,   0,   0,   0,   0,   0,   0,   0,   0,   0,   0,\n",
       "          0,   0],\n",
       "       [  0,   0,   0,   0,   0,   0,   0,   0,   0,   0,   0,   0,   0,\n",
       "          0,   0,   0,   0,   0,   0,   0,   0,   0,   0,   0,   0,   0,\n",
       "          0,   0],\n",
       "       [  0,   0,   0,   0,   0,   0,   0,   0,   0,   0,   0,   0,   3,\n",
       "         18,  18,  18, 126, 136, 175,  26, 166, 255, 247, 127,   0,   0,\n",
       "          0,   0],\n",
       "       [  0,   0,   0,   0,   0,   0,   0,   0,  30,  36,  94, 154, 170,\n",
       "        253, 253, 253, 253, 253, 225, 172, 253, 242, 195,  64,   0,   0,\n",
       "          0,   0],\n",
       "       [  0,   0,   0,   0,   0,   0,   0,  49, 238, 253, 253, 253, 253,\n",
       "        253, 253, 253, 253, 251,  93,  82,  82,  56,  39,   0,   0,   0,\n",
       "          0,   0],\n",
       "       [  0,   0,   0,   0,   0,   0,   0,  18, 219, 253, 253, 253, 253,\n",
       "        253, 198, 182, 247, 241,   0,   0,   0,   0,   0,   0,   0,   0,\n",
       "          0,   0],\n",
       "       [  0,   0,   0,   0,   0,   0,   0,   0,  80, 156, 107, 253, 253,\n",
       "        205,  11,   0,  43, 154,   0,   0,   0,   0,   0,   0,   0,   0,\n",
       "          0,   0],\n",
       "       [  0,   0,   0,   0,   0,   0,   0,   0,   0,  14,   1, 154, 253,\n",
       "         90,   0,   0,   0,   0,   0,   0,   0,   0,   0,   0,   0,   0,\n",
       "          0,   0],\n",
       "       [  0,   0,   0,   0,   0,   0,   0,   0,   0,   0,   0, 139, 253,\n",
       "        190,   2,   0,   0,   0,   0,   0,   0,   0,   0,   0,   0,   0,\n",
       "          0,   0],\n",
       "       [  0,   0,   0,   0,   0,   0,   0,   0,   0,   0,   0,  11, 190,\n",
       "        253,  70,   0,   0,   0,   0,   0,   0,   0,   0,   0,   0,   0,\n",
       "          0,   0],\n",
       "       [  0,   0,   0,   0,   0,   0,   0,   0,   0,   0,   0,   0,  35,\n",
       "        241, 225, 160, 108,   1,   0,   0,   0,   0,   0,   0,   0,   0,\n",
       "          0,   0],\n",
       "       [  0,   0,   0,   0,   0,   0,   0,   0,   0,   0,   0,   0,   0,\n",
       "         81, 240, 253, 253, 119,  25,   0,   0,   0,   0,   0,   0,   0,\n",
       "          0,   0],\n",
       "       [  0,   0,   0,   0,   0,   0,   0,   0,   0,   0,   0,   0,   0,\n",
       "          0,  45, 186, 253, 253, 150,  27,   0,   0,   0,   0,   0,   0,\n",
       "          0,   0],\n",
       "       [  0,   0,   0,   0,   0,   0,   0,   0,   0,   0,   0,   0,   0,\n",
       "          0,   0,  16,  93, 252, 253, 187,   0,   0,   0,   0,   0,   0,\n",
       "          0,   0],\n",
       "       [  0,   0,   0,   0,   0,   0,   0,   0,   0,   0,   0,   0,   0,\n",
       "          0,   0,   0,   0, 249, 253, 249,  64,   0,   0,   0,   0,   0,\n",
       "          0,   0],\n",
       "       [  0,   0,   0,   0,   0,   0,   0,   0,   0,   0,   0,   0,   0,\n",
       "          0,  46, 130, 183, 253, 253, 207,   2,   0,   0,   0,   0,   0,\n",
       "          0,   0],\n",
       "       [  0,   0,   0,   0,   0,   0,   0,   0,   0,   0,   0,   0,  39,\n",
       "        148, 229, 253, 253, 253, 250, 182,   0,   0,   0,   0,   0,   0,\n",
       "          0,   0],\n",
       "       [  0,   0,   0,   0,   0,   0,   0,   0,   0,   0,  24, 114, 221,\n",
       "        253, 253, 253, 253, 201,  78,   0,   0,   0,   0,   0,   0,   0,\n",
       "          0,   0],\n",
       "       [  0,   0,   0,   0,   0,   0,   0,   0,  23,  66, 213, 253, 253,\n",
       "        253, 253, 198,  81,   2,   0,   0,   0,   0,   0,   0,   0,   0,\n",
       "          0,   0],\n",
       "       [  0,   0,   0,   0,   0,   0,  18, 171, 219, 253, 253, 253, 253,\n",
       "        195,  80,   9,   0,   0,   0,   0,   0,   0,   0,   0,   0,   0,\n",
       "          0,   0],\n",
       "       [  0,   0,   0,   0,  55, 172, 226, 253, 253, 253, 253, 244, 133,\n",
       "         11,   0,   0,   0,   0,   0,   0,   0,   0,   0,   0,   0,   0,\n",
       "          0,   0],\n",
       "       [  0,   0,   0,   0, 136, 253, 253, 253, 212, 135, 132,  16,   0,\n",
       "          0,   0,   0,   0,   0,   0,   0,   0,   0,   0,   0,   0,   0,\n",
       "          0,   0],\n",
       "       [  0,   0,   0,   0,   0,   0,   0,   0,   0,   0,   0,   0,   0,\n",
       "          0,   0,   0,   0,   0,   0,   0,   0,   0,   0,   0,   0,   0,\n",
       "          0,   0],\n",
       "       [  0,   0,   0,   0,   0,   0,   0,   0,   0,   0,   0,   0,   0,\n",
       "          0,   0,   0,   0,   0,   0,   0,   0,   0,   0,   0,   0,   0,\n",
       "          0,   0],\n",
       "       [  0,   0,   0,   0,   0,   0,   0,   0,   0,   0,   0,   0,   0,\n",
       "          0,   0,   0,   0,   0,   0,   0,   0,   0,   0,   0,   0,   0,\n",
       "          0,   0]], dtype=uint8)"
      ]
     },
     "execution_count": 51,
     "metadata": {},
     "output_type": "execute_result"
    }
   ],
   "source": [
    "X_train[0]"
   ]
  },
  {
   "cell_type": "code",
   "execution_count": null,
   "metadata": {
    "colab": {
     "base_uri": "https://localhost:8080/"
    },
    "id": "-qBmgovycEXQ",
    "outputId": "37de94d7-6582-425f-e99a-4f1d6b8bc503"
   },
   "outputs": [
    {
     "data": {
      "text/plain": [
       "5"
      ]
     },
     "execution_count": 52,
     "metadata": {},
     "output_type": "execute_result"
    }
   ],
   "source": [
    "y_train[0]"
   ]
  },
  {
   "cell_type": "code",
   "execution_count": null,
   "metadata": {
    "colab": {
     "base_uri": "https://localhost:8080/",
     "height": 282
    },
    "id": "22jgHHxocKuD",
    "outputId": "55f4a36a-00ca-43ce-be32-063113cdaaa5"
   },
   "outputs": [
    {
     "data": {
      "text/plain": [
       "<matplotlib.image.AxesImage at 0x7fd9e0699550>"
      ]
     },
     "execution_count": 53,
     "metadata": {},
     "output_type": "execute_result"
    },
    {
     "data": {
      "image/png": "[encoded data removed]",
      "text/plain": [
       "<Figure size 432x288 with 1 Axes>"
      ]
     },
     "metadata": {
      "needs_background": "light"
     },
     "output_type": "display_data"
    }
   ],
   "source": [
    "import matplotlib.pyplot as plt\n",
    "plt.imshow(X_train[0])"
   ]
  },
  {
   "cell_type": "markdown",
   "metadata": {
    "id": "xTJ2QOhDdJAF"
   },
   "source": [
    "##Reshaping the data"
   ]
  },
  {
   "cell_type": "code",
   "execution_count": null,
   "metadata": {
    "id": "cMFh4_I6c2LB"
   },
   "outputs": [],
   "source": [
    "X_train = X_train.reshape(60000, 28, 28, 1).astype('float32')\n",
    "X_test = X_test.reshape(10000, 28, 28, 1).astype('float32')"
   ]
  },
  {
   "cell_type": "markdown",
   "metadata": {
    "id": "edmGhHigdxZ_"
   },
   "source": [
    "##Apply one-Hot Encoding"
   ]
  },
  {
   "cell_type": "code",
   "execution_count": null,
   "metadata": {
    "id": "ABklhSycdroP"
   },
   "outputs": [],
   "source": [
    "number_of_classes = 10\n",
    "y_train = np_utils.to_categorical(y_train, number_of_classes)\n",
    "y_test = np_utils.to_categorical(y_test,  number_of_classes)"
   ]
  },
  {
   "cell_type": "code",
   "execution_count": null,
   "metadata": {
    "colab": {
     "base_uri": "https://localhost:8080/"
    },
    "id": "3A8BAleYedFO",
    "outputId": "10cb0502-0471-4979-8654-aeed7ed8d063"
   },
   "outputs": [
    {
     "data": {
      "text/plain": [
       "array([0., 0., 0., 0., 0., 1., 0., 0., 0., 0.], dtype=float32)"
      ]
     },
     "execution_count": 57,
     "metadata": {},
     "output_type": "execute_result"
    }
   ],
   "source": [
    "y_train[0]"
   ]
  },
  {
   "cell_type": "markdown",
   "metadata": {
    "id": "CgnLGdXQiPw6"
   },
   "source": [
    "###Model Building"
   ]
  },
  {
   "cell_type": "markdown",
   "metadata": {
    "id": "fsUwlpsViPhC"
   },
   "source": [
    "## Add CNN Layers\n"
   ]
  },
  {
   "cell_type": "code",
   "execution_count": null,
   "metadata": {
    "id": "JoekqH3wfHr2"
   },
   "outputs": [],
   "source": [
    "#Creating the Model\n",
    "model = Sequential()\n",
    "model.add(Conv2D(64, (3, 3), input_shape = (28, 28, 1), activation='relu'))\n",
    "model.add(Conv2D(32, (3,3), activation = 'relu'))\n",
    "model.add(Flatten())\n",
    "model.add(Dense(number_of_classes, activation = 'softmax'))"
   ]
  },
  {
   "cell_type": "markdown",
   "metadata": {
    "id": "8r5V3TZKi5HM"
   },
   "source": [
    "##compiling the Model"
   ]
  },
  {
   "cell_type": "code",
   "execution_count": null,
   "metadata": {
    "id": "HSAQYJuCifqy"
   },
   "outputs": [],
   "source": [
    "model.compile(loss='categorical_crossentropy',optimizer=\"Adam\",metrics=['accuracy'])\n",
    "number_of_classes = 10"
   ]
  },
  {
   "cell_type": "markdown",
   "metadata": {
    "id": "2k-XrCETjWPJ"
   },
   "source": [
    "##Train the model"
   ]
  },
  {
   "cell_type": "code",
   "execution_count": null,
   "metadata": {
    "colab": {
     "base_uri": "https://localhost:8080/"
    },
    "id": "gHq4YXoJjQ_r",
    "outputId": "cb0679b3-7dbb-4706-ec0c-bf653c086219"
   },
   "outputs": [
    {
     "name": "stdout",
     "output_type": "stream",
     "text": [
      "Epoch 1/12\n",
      "469/469 [==============================] - 187s 399ms/step - loss: 0.3945 - accuracy: 0.9450 - val_loss: 0.0772 - val_accuracy: 0.9768\n",
      "Epoch 2/12\n",
      "469/469 [==============================] - 220s 469ms/step - loss: 0.0616 - accuracy: 0.9807 - val_loss: 0.0947 - val_accuracy: 0.9737\n",
      "Epoch 3/12\n",
      "469/469 [==============================] - 213s 455ms/step - loss: 0.0436 - accuracy: 0.9862 - val_loss: 0.1030 - val_accuracy: 0.9766\n",
      "Epoch 4/12\n",
      "469/469 [==============================] - 208s 443ms/step - loss: 0.0276 - accuracy: 0.9908 - val_loss: 0.0977 - val_accuracy: 0.9768\n",
      "Epoch 5/12\n",
      "469/469 [==============================] - 237s 504ms/step - loss: 0.0233 - accuracy: 0.9922 - val_loss: 0.1103 - val_accuracy: 0.9753\n",
      "Epoch 6/12\n",
      "469/469 [==============================] - 170s 362ms/step - loss: 0.0167 - accuracy: 0.9945 - val_loss: 0.1267 - val_accuracy: 0.9770\n",
      "Epoch 7/12\n",
      "469/469 [==============================] - 168s 358ms/step - loss: 0.0169 - accuracy: 0.9947 - val_loss: 0.1239 - val_accuracy: 0.9781\n",
      "Epoch 8/12\n",
      "469/469 [==============================] - 168s 358ms/step - loss: 0.0158 - accuracy: 0.9951 - val_loss: 0.1521 - val_accuracy: 0.9767\n",
      "Epoch 9/12\n",
      "469/469 [==============================] - 168s 358ms/step - loss: 0.0157 - accuracy: 0.9951 - val_loss: 0.1454 - val_accuracy: 0.9769\n",
      "Epoch 10/12\n",
      "469/469 [==============================] - 168s 359ms/step - loss: 0.0109 - accuracy: 0.9968 - val_loss: 0.1453 - val_accuracy: 0.9778\n",
      "Epoch 11/12\n",
      "469/469 [==============================] - 168s 358ms/step - loss: 0.0117 - accuracy: 0.9962 - val_loss: 0.1803 - val_accuracy: 0.9751\n",
      "Epoch 12/12\n",
      "469/469 [==============================] - 168s 358ms/step - loss: 0.0154 - accuracy: 0.9956 - val_loss: 0.1448 - val_accuracy: 0.9772\n"
     ]
    },
    {
     "data": {
      "text/plain": [
       "<keras.callbacks.History at 0x7fd9da3b7650>"
      ]
     },
     "execution_count": 75,
     "metadata": {},
     "output_type": "execute_result"
    }
   ],
   "source": [
    "#Fitting the model\n",
    "model.fit(X_train, y_train, validation_data = (X_test, y_test), epochs=12, batch_size=128 )"
   ]
  },
  {
   "cell_type": "markdown",
   "metadata": {
    "id": "_zsMlSrVr4SU"
   },
   "source": [
    "##Observing the metrics"
   ]
  },
  {
   "cell_type": "code",
   "execution_count": null,
   "metadata": {
    "colab": {
     "base_uri": "https://localhost:8080/"
    },
    "id": "KxHITCvLj3j0",
    "outputId": "a22db2fc-866f-4185-94d3-396a063469d7"
   },
   "outputs": [
    {
     "name": "stdout",
     "output_type": "stream",
     "text": [
      "Metrics(Test loss & Test Acurracy):\n",
      "[0.14481091499328613, 0.9771999716758728]\n"
     ]
    }
   ],
   "source": [
    "metrics =model.evaluate(X_test,y_test,verbose=0)\n",
    "print(\"Metrics(Test loss & Test Acurracy):\")\n",
    "print(metrics)"
   ]
  },
  {
   "cell_type": "markdown",
   "metadata": {
    "id": "8yZ1WnX7tgZ4"
   },
   "source": [
    "###Test the Model"
   ]
  },
  {
   "cell_type": "markdown",
   "metadata": {
    "id": "GM5gnkalstl8"
   },
   "source": [
    "##Predicting the output"
   ]
  },
  {
   "cell_type": "code",
   "execution_count": null,
   "metadata": {
    "colab": {
     "base_uri": "https://localhost:8080/"
    },
    "id": "KGuu6tKksoMo",
    "outputId": "728bd3c7-0f15-487a-cb95-feef6980f197"
   },
   "outputs": [
    {
     "name": "stdout",
     "output_type": "stream",
     "text": [
      "1/1 [==============================] - 0s 23ms/step\n",
      "[[9.6609507e-17 1.6706395e-30 1.1514326e-14 6.2211914e-14 2.1789413e-30\n",
      "  9.8262021e-24 4.1186576e-30 1.0000000e+00 9.9287471e-20 3.6865574e-19]\n",
      " [2.6650833e-24 1.2571344e-25 1.0000000e+00 3.8322025e-25 6.0288331e-32\n",
      "  1.7170357e-31 2.1468791e-15 6.8599688e-34 6.6149775e-21 3.5742554e-32]\n",
      " [6.0631769e-12 9.9999774e-01 2.6093470e-12 1.9750187e-15 1.9481078e-11\n",
      "  1.8802774e-12 1.2282828e-12 2.5202282e-13 2.2576423e-06 4.3454872e-13]\n",
      " [1.0000000e+00 3.2207890e-26 9.8987043e-12 2.5465012e-20 1.3112296e-23\n",
      "  3.9773871e-18 1.9132972e-12 1.3219097e-19 3.5936968e-17 2.9064331e-12]]\n"
     ]
    }
   ],
   "source": [
    "prediction=model.predict(X_test[:4])\n",
    "print(prediction)"
   ]
  },
  {
   "cell_type": "code",
   "execution_count": null,
   "metadata": {
    "colab": {
     "base_uri": "https://localhost:8080/"
    },
    "id": "52iqLmHztCUI",
    "outputId": "ec86b835-af41-451a-e6ae-9293785140c6"
   },
   "outputs": [
    {
     "name": "stdout",
     "output_type": "stream",
     "text": [
      "[7 2 1 0]\n",
      "[[0. 0. 0. 0. 0. 0. 0. 1. 0. 0.]\n",
      " [0. 0. 1. 0. 0. 0. 0. 0. 0. 0.]\n",
      " [0. 1. 0. 0. 0. 0. 0. 0. 0. 0.]\n",
      " [1. 0. 0. 0. 0. 0. 0. 0. 0. 0.]]\n"
     ]
    }
   ],
   "source": [
    "\n",
    "print(np.argmax(prediction,axis=1))\n",
    "print(y_test[:4])"
   ]
  },
  {
   "cell_type": "markdown",
   "metadata": {
    "id": "cp_HCVxZtmQq"
   },
   "source": [
    "##Save The model"
   ]
  },
  {
   "cell_type": "code",
   "execution_count": null,
   "metadata": {
    "id": "Z7gQ72nYtVcU"
   },
   "outputs": [],
   "source": [
    "model.save('models/mnistCNN.h5')"
   ]
  },
  {
   "cell_type": "markdown",
   "metadata": {
    "id": "ho94dXOIt81u"
   },
   "source": [
    "##Test With saved model"
   ]
  },
  {
   "cell_type": "code",
   "execution_count": 9,
   "metadata": {
    "colab": {
     "base_uri": "https://localhost:8080/"
    },
    "id": "ioDzZ9CzH597",
    "outputId": "d7ad86d9-78b1-458d-94af-3c0ca640609b"
   },
   "outputs": [
    {
     "name": "stdout",
     "output_type": "stream",
     "text": [
      "(28, 28, 1)\n",
      "(1, 28, 28, 1)\n",
      "********************\n",
      "1/1 [==============================] - 0s 54ms/step\n",
      "[[2.0730141e-01 4.4900822e-04 1.4002007e-01 6.4989376e-01 1.3808086e-09\n",
      "  4.6116722e-04 1.0275489e-05 2.1104751e-09 1.8321988e-03 3.2233369e-05]]\n",
      "********************\n",
      "1/1 [==============================] - 0s 18ms/step\n",
      "[[0. 0. 0. 1. 0. 0. 0. 0. 0. 0.]]\n"
     ]
    }
   ],
   "source": [
    "from tensorflow.keras.models import load_model\n",
    "from tensorflow.keras.preprocessing import image\n",
    "import numpy as np\n",
    "model = load_model('mnistCNN.h5')\n",
    "img = image.load_img('9.png',target_size=(28,28),grayscale=True)\n",
    "img = image.img_to_array(img)\n",
    "print(img.shape)\n",
    "x = np.expand_dims(img,axis=0)\n",
    "print(x.shape)\n",
    "print('*'*20)\n",
    "print(model.predict(x))\n",
    "print('*'*20)\n",
    "print(np.round_(model.predict(x)))"
   ]
  }
 ],
 "metadata": {
  "colab": {
   "collapsed_sections": [],
   "provenance": []
  },
  "kernelspec": {
   "display_name": "Python 3",
   "language": "python",
   "name": "python3"
  },
  "language_info": {
   "codemirror_mode": {
    "name": "ipython",
    "version": 3
   },
   "file_extension": ".py",
   "mimetype": "text/x-python",
   "name": "python",
   "nbconvert_exporter": "python",
   "pygments_lexer": "ipython3",
   "version": "3.7.6"
  }
 },
 "nbformat": 4,
 "nbformat_minor": 1
}
